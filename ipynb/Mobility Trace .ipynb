{
 "cells": [
  {
   "cell_type": "code",
   "execution_count": 1,
   "metadata": {
    "collapsed": false
   },
   "outputs": [
    {
     "name": "stdout",
     "output_type": "stream",
     "text": [
      "Chang-Wu Chen 10/04/2015 \n",
      "\n",
      "CPython 2.7.9\n",
      "IPython 3.1.0\n",
      "\n",
      "pandas 0.16.0\n"
     ]
    }
   ],
   "source": [
    "%load_ext watermark\n",
    "%watermark -a 'Chang-Wu Chen' -v -d -p pandas"
   ]
  },
  {
   "cell_type": "code",
   "execution_count": 2,
   "metadata": {
    "collapsed": true
   },
   "outputs": [],
   "source": [
    "import random\n",
    "\n",
    "import pandas as pd\n",
    "import matplotlib.pyplot as plt\n",
    "import networkx as nx"
   ]
  },
  {
   "cell_type": "code",
   "execution_count": 3,
   "metadata": {
    "collapsed": false
   },
   "outputs": [],
   "source": [
    "df = pd.read_csv('../adsc/adsc.gpslane', delimiter='\\t', header=None)\n",
    "df.columns = ['id', 'x', 'y', 'lane_id', 'speed', 'angle', 'slope', 'timestep']"
   ]
  },
  {
   "cell_type": "code",
   "execution_count": 4,
   "metadata": {
    "collapsed": false
   },
   "outputs": [
    {
     "data": {
      "text/html": [
       "<div style=\"max-height:1000px;max-width:1500px;overflow:auto;\">\n",
       "<table border=\"1\" class=\"dataframe\">\n",
       "  <thead>\n",
       "    <tr style=\"text-align: right;\">\n",
       "      <th></th>\n",
       "      <th>id</th>\n",
       "      <th>x</th>\n",
       "      <th>y</th>\n",
       "      <th>lane_id</th>\n",
       "      <th>speed</th>\n",
       "      <th>angle</th>\n",
       "      <th>slope</th>\n",
       "      <th>timestep</th>\n",
       "    </tr>\n",
       "  </thead>\n",
       "  <tbody>\n",
       "    <tr>\n",
       "      <th>0</th>\n",
       "      <td>0</td>\n",
       "      <td>1551.72</td>\n",
       "      <td>3306.96</td>\n",
       "      <td>-168242582#12_0</td>\n",
       "      <td>0.000</td>\n",
       "      <td>-125.45</td>\n",
       "      <td>0</td>\n",
       "      <td>0</td>\n",
       "    </tr>\n",
       "    <tr>\n",
       "      <th>1</th>\n",
       "      <td>0</td>\n",
       "      <td>1550.54</td>\n",
       "      <td>3307.79</td>\n",
       "      <td>-168242582#12_0</td>\n",
       "      <td>5.184</td>\n",
       "      <td>-125.45</td>\n",
       "      <td>0</td>\n",
       "      <td>1</td>\n",
       "    </tr>\n",
       "    <tr>\n",
       "      <th>2</th>\n",
       "      <td>1</td>\n",
       "      <td>1407.65</td>\n",
       "      <td>3648.42</td>\n",
       "      <td>-96668755#1_0</td>\n",
       "      <td>0.000</td>\n",
       "      <td>71.65</td>\n",
       "      <td>0</td>\n",
       "      <td>1</td>\n",
       "    </tr>\n",
       "    <tr>\n",
       "      <th>3</th>\n",
       "      <td>0</td>\n",
       "      <td>1548.00</td>\n",
       "      <td>3309.60</td>\n",
       "      <td>-168242582#12_0</td>\n",
       "      <td>11.232</td>\n",
       "      <td>-125.45</td>\n",
       "      <td>0</td>\n",
       "      <td>2</td>\n",
       "    </tr>\n",
       "    <tr>\n",
       "      <th>4</th>\n",
       "      <td>1</td>\n",
       "      <td>1410.06</td>\n",
       "      <td>3647.62</td>\n",
       "      <td>-96668755#1_0</td>\n",
       "      <td>9.144</td>\n",
       "      <td>71.65</td>\n",
       "      <td>0</td>\n",
       "      <td>2</td>\n",
       "    </tr>\n",
       "  </tbody>\n",
       "</table>\n",
       "</div>"
      ],
      "text/plain": [
       "   id        x        y          lane_id   speed   angle  slope  timestep\n",
       "0   0  1551.72  3306.96  -168242582#12_0   0.000 -125.45      0         0\n",
       "1   0  1550.54  3307.79  -168242582#12_0   5.184 -125.45      0         1\n",
       "2   1  1407.65  3648.42    -96668755#1_0   0.000   71.65      0         1\n",
       "3   0  1548.00  3309.60  -168242582#12_0  11.232 -125.45      0         2\n",
       "4   1  1410.06  3647.62    -96668755#1_0   9.144   71.65      0         2"
      ]
     },
     "execution_count": 4,
     "metadata": {},
     "output_type": "execute_result"
    }
   ],
   "source": [
    "df.head()"
   ]
  },
  {
   "cell_type": "code",
   "execution_count": 5,
   "metadata": {
    "collapsed": true
   },
   "outputs": [],
   "source": [
    "def decision(probability):\n",
    "    return random.random() < probability"
   ]
  },
  {
   "cell_type": "code",
   "execution_count": 7,
   "metadata": {
    "collapsed": false
   },
   "outputs": [],
   "source": [
    "f = open('accusation.txt','w')\n",
    "\n",
    "timestep = list(set(df.timestep))\n",
    "\n",
    "prev_vids = []\n",
    "for t in timestep:    \n",
    "    # Get vehicle information on timestep t\n",
    "    dt = df[df['timestep'] == t]\n",
    "    \n",
    "    # Check whether there is any vehicle on the same lane?\n",
    "    d = dict(dt['lane_id'].value_counts())\n",
    "    \n",
    "    curr_vids = []\n",
    "    for k, v in d.iteritems():\n",
    "        if v == 1: continue\n",
    "            \n",
    "        # Get the nearby vehicle ids\n",
    "        vids = dt[dt['lane_id'] == k].id.values\n",
    "        tmp_vids = ', '.join(str(v) for v in vids)\n",
    "\n",
    "        if tmp_vids not in prev_vids:\n",
    "            # Exist a misbehavior vehicle and is detected             \n",
    "            if decision(0.1) and decision(0.8):\n",
    "                bad_vid = random.choice(vids)\n",
    "                \n",
    "                vids.tolist().remove(bad_vid)\n",
    "                \n",
    "                for vid in vids:\n",
    "                    f.write('{} {} {}\\n'.format(vid, bad_vid, t))\n",
    "        curr_vids.append(tmp_vids)\n",
    "        \n",
    "    prev_vids = curr_vids\n",
    "    \n",
    "f.close()    "
   ]
  },
  {
   "cell_type": "code",
   "execution_count": null,
   "metadata": {
    "collapsed": false
   },
   "outputs": [],
   "source": [
    "for i in xrange(500):# max(df['id'])\n",
    "    plt.plot(df[df['id']==i]['x'], df[df['id']==i]['y'])"
   ]
  },
  {
   "cell_type": "code",
   "execution_count": null,
   "metadata": {
    "collapsed": true
   },
   "outputs": [],
   "source": []
  },
  {
   "cell_type": "code",
   "execution_count": null,
   "metadata": {
    "collapsed": true
   },
   "outputs": [],
   "source": []
  }
 ],
 "metadata": {
  "kernelspec": {
   "display_name": "Python 2",
   "language": "python",
   "name": "python2"
  }
 },
 "nbformat": 4,
 "nbformat_minor": 0
}
