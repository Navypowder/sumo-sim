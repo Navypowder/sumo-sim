{
 "cells": [
  {
   "cell_type": "code",
   "execution_count": 4,
   "metadata": {
    "collapsed": false
   },
   "outputs": [],
   "source": [
    "from random import random, shuffle\n",
    "\n",
    "import pandas as pd"
   ]
  },
  {
   "cell_type": "code",
   "execution_count": 5,
   "metadata": {
    "collapsed": true
   },
   "outputs": [],
   "source": [
    "def load_Vnodes():\n",
    "    global virtual_nodes\n",
    "    with open('dictionary', 'rb') as f:\n",
    "        virtual_nodes = f.read().split(',')\n",
    "\n",
    "        \n",
    "def get_Vnodes():\n",
    "    global virtual_nodes\n",
    "    return virtual_nodes.pop(0)\n",
    "\n",
    "\n",
    "def inject_noise(G):\n",
    "    load_Vnodes()\n",
    "    # add node\n",
    "    if random() < 0.5:\n",
    "        u = G.nodes()\n",
    "        shuffle(u)\n",
    "        v = get_Vnodes()\n",
    "        if random() < 0.5:\n",
    "            G.add_edge(u[0], v)\n",
    "        else:\n",
    "            G.add_edge(v, u[0])\n",
    "    else:\n",
    "        H = nx.complement(G)\n",
    "        e = H.edges()\n",
    "        shuffle(e)\n",
    "        G.add_edge(*e[0])\n",
    "    return G\n",
    "\n",
    "\n",
    "def get_graph_info(G):\n",
    "    \"\"\"Convert graph into tabular data\n",
    "    row = node, degree, in_degree, out_degree\n",
    "    \"\"\"\n",
    "    nodes = G.nodes()\n",
    "    in_degrees = []\n",
    "    out_degrees = []\n",
    "    for i in nodes:\n",
    "        in_degrees.append(G.in_degree(i))\n",
    "        out_degrees.append(G.out_degree(i))\n",
    "    degrees = zip(in_degrees, out_degrees)\n",
    "    return zip(*[nodes, degrees, in_degrees, out_degrees])\n",
    "\n",
    "\n",
    "def statistic(G):\n",
    "    df = pd.DataFrame(get_graph_info(G), columns=['node', 'degree', 'in_deg', 'out_deg'])\n",
    "    print df.degree.value_counts()\n",
    "    \n",
    "    \n",
    "def outputToHTML():\n",
    "    pics = glob('pics/*.png')\n",
    "\n",
    "    with open('demo.html', 'w') as f:\n",
    "        f.write('<table border=\"1\">')\n",
    "        f.write('<tbody>')\n",
    "\n",
    "        for i in pics:\n",
    "            f.write('<tr>')\n",
    "            f.write('<td><img src=\"{}\" />'.format(i))\n",
    "            f.write('</tr>')\n",
    "\n",
    "        f.write('</tbody>')\n",
    "        f.write('</table>')"
   ]
  },
  {
   "cell_type": "code",
   "execution_count": 6,
   "metadata": {
    "collapsed": false
   },
   "outputs": [],
   "source": [
    "created = []\n",
    "\n",
    "deletePng()\n",
    "for i in range(1, 501):\n",
    "    G = nx.DiGraph()\n",
    "    G.add_edges_from([(2,1), (3,1)])\n",
    "    for _ in range(1):\n",
    "        G = inject_noise(G)\n",
    "    \n",
    "    isSkip = False\n",
    "    for H in created:\n",
    "        if nx.is_isomorphic(G, H):\n",
    "            isSkip = True\n",
    "            \n",
    "    if not isSkip:\n",
    "        nx.write_dot(G, 'pics/{:03}.dot'.format(i))\n",
    "        cmd = 'sfdp -x -Goverlap=prism -Tpng pics/{} > pics/{}'.format('{:03}.dot'.format(i), '{:03}.png'.format(i))\n",
    "        os.system(cmd)\n",
    "    created.append(G)\n",
    "deleteDot()\n",
    "\n",
    "outputToHTML()"
   ]
  },
  {
   "cell_type": "code",
   "execution_count": 8,
   "metadata": {
    "collapsed": false
   },
   "outputs": [],
   "source": [
    "created = []\n",
    "\n",
    "deletePng()\n",
    "for i in range(1, 501):\n",
    "    G = nx.DiGraph()\n",
    "    G.add_edges_from([(2,1), (3,1)])\n",
    "    for _ in range(2):\n",
    "        G = inject_noise(G)\n",
    "    \n",
    "    isSkip = False\n",
    "    for H in created:\n",
    "        if nx.is_isomorphic(G, H):\n",
    "            isSkip = True\n",
    "            \n",
    "    if not isSkip:\n",
    "        nx.write_dot(G, 'pics2/{:03}.dot'.format(i))\n",
    "        cmd = 'sfdp -x -Goverlap=prism -Tpng pics2/{} > pics2/{}'.format('{:03}.dot'.format(i), '{:03}.png'.format(i))\n",
    "        os.system(cmd)\n",
    "    created.append(G)\n",
    "deleteDot()\n",
    "\n",
    "outputToHTML()"
   ]
  },
  {
   "cell_type": "code",
   "execution_count": null,
   "metadata": {
    "collapsed": true
   },
   "outputs": [],
   "source": []
  }
 ],
 "metadata": {
  "kernelspec": {
   "display_name": "Python 2",
   "language": "python",
   "name": "python2"
  },
  "language_info": {
   "codemirror_mode": {
    "name": "ipython",
    "version": 2
   },
   "file_extension": ".py",
   "mimetype": "text/x-python",
   "name": "python",
   "nbconvert_exporter": "python",
   "pygments_lexer": "ipython2",
   "version": "2.7.10"
  }
 },
 "nbformat": 4,
 "nbformat_minor": 0
}
